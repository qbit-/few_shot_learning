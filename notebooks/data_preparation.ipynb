{
 "cells": [
  {
   "cell_type": "code",
   "execution_count": 1,
   "metadata": {},
   "outputs": [],
   "source": [
    "import os\n",
    "import matplotlib.pyplot as plt \n",
    "import numpy as np\n",
    "import pandas as pd\n",
    "from PIL import Image"
   ]
  },
  {
   "cell_type": "markdown",
   "metadata": {},
   "source": [
    "### Prepare the dataset"
   ]
  },
  {
   "cell_type": "markdown",
   "metadata": {},
   "source": [
    "Download dataset from [Kaggle](https://www.kaggle.com/paramaggarwal/fashion-product-images-dataset/version/1)\n",
    "to DATA_DIR"
   ]
  },
  {
   "cell_type": "code",
   "execution_count": 2,
   "metadata": {},
   "outputs": [],
   "source": [
    "DATA_DIR = 'data/myntradataset'\n",
    "RANDOM_SEED=42"
   ]
  },
  {
   "cell_type": "code",
   "execution_count": 3,
   "metadata": {},
   "outputs": [
    {
     "name": "stdout",
     "output_type": "stream",
     "text": [
      "DATA_DIR contents: ['test.p', 'styles.csv', 'all_data.p', 'images', 'train_top20.p', 'train_other.p', 'class_labels.p']\n"
     ]
    }
   ],
   "source": [
    "print('DATA_DIR contents:', os.listdir(DATA_DIR))"
   ]
  },
  {
   "cell_type": "code",
   "execution_count": 4,
   "metadata": {},
   "outputs": [],
   "source": [
    "# Drop invalid entries"
   ]
  },
  {
   "cell_type": "code",
   "execution_count": 5,
   "metadata": {},
   "outputs": [],
   "source": [
    "def read_and_clean_data(data_dir: str = DATA_DIR):\n",
    "    df = pd.read_csv(os.path.join(data_dir, 'styles.csv'), error_bad_lines=False)\n",
    "    # drop entries without an image\n",
    "    image_files = os.listdir(os.path.join(data_dir, 'images'))\n",
    "    image_names = df.apply(lambda row: str(row['id']) + '.jpg', axis=1)\n",
    "    df = df[image_names.isin(image_files)]\n",
    "    \n",
    "    # add image path field\n",
    "    df['image'] = df.apply(lambda row: os.path.join(DATA_DIR, 'images', str(row['id']) + '.jpg'), axis=1)\n",
    "    df = df.reset_index(drop=True)\n",
    "\n",
    "    return df"
   ]
  },
  {
   "cell_type": "code",
   "execution_count": 6,
   "metadata": {},
   "outputs": [
    {
     "name": "stderr",
     "output_type": "stream",
     "text": [
      "b'Skipping line 6044: expected 10 fields, saw 11\\nSkipping line 6569: expected 10 fields, saw 11\\nSkipping line 7399: expected 10 fields, saw 11\\nSkipping line 7939: expected 10 fields, saw 11\\nSkipping line 9026: expected 10 fields, saw 11\\nSkipping line 10264: expected 10 fields, saw 11\\nSkipping line 10427: expected 10 fields, saw 11\\nSkipping line 10905: expected 10 fields, saw 11\\nSkipping line 11373: expected 10 fields, saw 11\\nSkipping line 11945: expected 10 fields, saw 11\\nSkipping line 14112: expected 10 fields, saw 11\\nSkipping line 14532: expected 10 fields, saw 11\\nSkipping line 15076: expected 10 fields, saw 12\\nSkipping line 29906: expected 10 fields, saw 11\\nSkipping line 31625: expected 10 fields, saw 11\\nSkipping line 33020: expected 10 fields, saw 11\\nSkipping line 35748: expected 10 fields, saw 11\\nSkipping line 35962: expected 10 fields, saw 11\\nSkipping line 37770: expected 10 fields, saw 11\\nSkipping line 38105: expected 10 fields, saw 11\\nSkipping line 38275: expected 10 fields, saw 11\\nSkipping line 38404: expected 10 fields, saw 12\\n'\n"
     ]
    },
    {
     "name": "stdout",
     "output_type": "stream",
     "text": [
      "Clean data shape: (44419, 11)\n"
     ]
    }
   ],
   "source": [
    "df = read_and_clean_data()\n",
    "print(f'Clean data shape: {df.shape}')"
   ]
  },
  {
   "cell_type": "code",
   "execution_count": 7,
   "metadata": {},
   "outputs": [
    {
     "data": {
      "text/plain": [
       "<AxesSubplot:>"
      ]
     },
     "execution_count": 7,
     "metadata": {},
     "output_type": "execute_result"
    },
    {
     "data": {
      "image/png": "[encoded data removed]",
      "text/plain": [
       "<Figure size 504x504 with 1 Axes>"
      ]
     },
     "metadata": {
      "needs_background": "light"
     },
     "output_type": "display_data"
    }
   ],
   "source": [
    "plt.figure(figsize=(7,7))\n",
    "df.articleType.value_counts().head(20).plot(kind='barh')"
   ]
  },
  {
   "cell_type": "code",
   "execution_count": 8,
   "metadata": {},
   "outputs": [
    {
     "name": "stdout",
     "output_type": "stream",
     "text": [
      "Unique articleTypes in clean dataset: 142\n"
     ]
    }
   ],
   "source": [
    "print(f'Unique articleTypes in clean dataset: {len(df.articleType.unique())}')"
   ]
  },
  {
   "cell_type": "code",
   "execution_count": 9,
   "metadata": {},
   "outputs": [],
   "source": [
    "# create integer classes. The order is determined by frequency of each class"
   ]
  },
  {
   "cell_type": "code",
   "execution_count": 10,
   "metadata": {},
   "outputs": [],
   "source": [
    "def add_classes_to_data(data: pd.DataFrame):\n",
    "    # create classes from articleType feature\n",
    "    class_counts = data.articleType.value_counts()\n",
    "    label_classes = dict((y, x) for (x, y) in enumerate(class_counts.index))\n",
    "    data['class'] = data.apply(lambda row: label_classes[row['articleType']], axis=1)\n",
    "    assert data['class'].max() == len(df.articleType.unique()) - 1\n",
    "    \n",
    "    # create series with labels to class map\n",
    "    class_labels = pd.Series(class_counts.index)\n",
    "    return data, class_labels"
   ]
  },
  {
   "cell_type": "code",
   "execution_count": 11,
   "metadata": {},
   "outputs": [
    {
     "name": "stdout",
     "output_type": "stream",
     "text": [
      "Dataset with classes shape: (44419, 12)\n"
     ]
    }
   ],
   "source": [
    "df, class_labels = add_classes_to_data(df)\n",
    "print(f'Dataset with classes shape: {df.shape}')"
   ]
  },
  {
   "cell_type": "code",
   "execution_count": 12,
   "metadata": {},
   "outputs": [],
   "source": [
    "# save class labels\n",
    "class_labels.to_pickle(os.path.join(DATA_DIR, 'class_labels.p'))"
   ]
  },
  {
   "cell_type": "code",
   "execution_count": 13,
   "metadata": {},
   "outputs": [],
   "source": [
    "# Test the size of the images\n",
    "def find_image_params(data: pd.DataFrame):\n",
    "    image_params = pd.DataFrame()\n",
    "    image_params['image'] = data.image\n",
    "    image_params['size'] = image_params.apply(lambda row: Image.open(row['image']).size, axis=1)\n",
    "    image_params['nelem'] = image_params.apply(lambda row: np.prod(row['size']), axis=1)\n",
    "    image_params.sort_values('nelem', inplace=True)\n",
    "    print(f'Min image size: {image_params.head(1)[\"size\"].tolist()[0]},',\n",
    "      f'Max image size: {image_params.tail(1)[\"size\"].tolist()[0]}')"
   ]
  },
  {
   "cell_type": "code",
   "execution_count": 14,
   "metadata": {},
   "outputs": [],
   "source": [
    "#find_image_params(df)"
   ]
  },
  {
   "cell_type": "code",
   "execution_count": null,
   "metadata": {},
   "outputs": [],
   "source": []
  },
  {
   "cell_type": "code",
   "execution_count": 15,
   "metadata": {},
   "outputs": [
    {
     "data": {
      "text/plain": [
       "<AxesSubplot:>"
      ]
     },
     "execution_count": 15,
     "metadata": {},
     "output_type": "execute_result"
    },
    {
     "data": {
      "image/png": "[encoded data removed]",
      "text/plain": [
       "<Figure size 432x288 with 1 Axes>"
      ]
     },
     "metadata": {
      "needs_background": "light"
     },
     "output_type": "display_data"
    }
   ],
   "source": [
    "# Top 20 classes\n",
    "top20_classes = df.articleType.value_counts().head(20)\n",
    "top20_classes.plot(kind='barh')"
   ]
  },
  {
   "cell_type": "code",
   "execution_count": 16,
   "metadata": {},
   "outputs": [
    {
     "name": "stdout",
     "output_type": "stream",
     "text": [
      "Total items in top-20 classes: 33142\n",
      "Total other classes: 11277\n"
     ]
    }
   ],
   "source": [
    "print(f'Total items in top-20 classes: {top20_classes.sum()}')\n",
    "print(f'Total other classes: {len(df) - top20_classes.sum()}')"
   ]
  },
  {
   "cell_type": "code",
   "execution_count": null,
   "metadata": {},
   "outputs": [],
   "source": []
  },
  {
   "cell_type": "code",
   "execution_count": 17,
   "metadata": {},
   "outputs": [],
   "source": [
    "def split_data_train_test(data: pd.DataFrame, select_classes: pd.Series):\n",
    "    # Test set\n",
    "    test = data[data.year % 2 == 1]\n",
    "    print(f'Test shape: {test.shape}')\n",
    "    \n",
    "    # Train sets\n",
    "    train_select = data[(data.year % 2 == 0) & data.articleType.isin(select_classes.index)]\n",
    "    train_other = data[(data.year % 2 == 0) & ~data.articleType.isin(select_classes.index)]\n",
    "    print(f'Train selected shape: {train_select.shape}')\n",
    "    print(f'Train other shape:  {train_other.shape}')\n",
    "    \n",
    "    return train_select, train_other, test"
   ]
  },
  {
   "cell_type": "code",
   "execution_count": 18,
   "metadata": {},
   "outputs": [
    {
     "name": "stdout",
     "output_type": "stream",
     "text": [
      "Test shape: (20634, 12)\n",
      "Train selected shape: (17998, 12)\n",
      "Train other shape:  (5786, 12)\n"
     ]
    }
   ],
   "source": [
    "train_top20, train_other, test = split_data_train_test(df, top20_classes)"
   ]
  },
  {
   "cell_type": "code",
   "execution_count": 19,
   "metadata": {},
   "outputs": [
    {
     "data": {
      "text/plain": [
       "<AxesSubplot:>"
      ]
     },
     "execution_count": 19,
     "metadata": {},
     "output_type": "execute_result"
    },
    {
     "data": {
      "image/png": "[encoded data removed]",
      "text/plain": [
       "<Figure size 432x288 with 1 Axes>"
      ]
     },
     "metadata": {
      "needs_background": "light"
     },
     "output_type": "display_data"
    }
   ],
   "source": [
    "test.articleType.value_counts().head(20).plot(kind='barh')"
   ]
  },
  {
   "cell_type": "code",
   "execution_count": null,
   "metadata": {},
   "outputs": [],
   "source": []
  },
  {
   "cell_type": "code",
   "execution_count": 20,
   "metadata": {},
   "outputs": [],
   "source": [
    "# Check splitting"
   ]
  },
  {
   "cell_type": "code",
   "execution_count": 21,
   "metadata": {},
   "outputs": [],
   "source": [
    "# Check which classes are in train set\n",
    "check_train_top20 = top20_classes.reset_index()\n",
    "check_train_top20.columns = ['articleType', 'counts']\n",
    "check_train_top20['top20_is_in'] = check_train_top20.articleType.isin(train_top20.articleType)"
   ]
  },
  {
   "cell_type": "code",
   "execution_count": 22,
   "metadata": {},
   "outputs": [
    {
     "name": "stdout",
     "output_type": "stream",
     "text": [
      "Are all top 20 classes in train: False\n"
     ]
    }
   ],
   "source": [
    "print(f'Are all top 20 classes in train: {check_train_top20.top20_is_in.all()}')"
   ]
  },
  {
   "cell_type": "code",
   "execution_count": 23,
   "metadata": {},
   "outputs": [],
   "source": [
    "# Create final dataset indices and save them"
   ]
  },
  {
   "cell_type": "code",
   "execution_count": 24,
   "metadata": {},
   "outputs": [],
   "source": [
    "def create_index_from_data(data, filename):\n",
    "    data_final = pd.DataFrame(columns=['image', 'class', 'class_label'])\n",
    "    data_final['image'] = data.image\n",
    "    data_final['class'] = data['class']\n",
    "    data_final['class_label'] = data.articleType\n",
    "    data_final = data_final.reset_index(drop=True)\n",
    "    data_final.to_pickle(filename)\n",
    "    return data_final"
   ]
  },
  {
   "cell_type": "code",
   "execution_count": 25,
   "metadata": {},
   "outputs": [
    {
     "data": {
      "text/html": [
       "<div>\n",
       "<style scoped>\n",
       "    .dataframe tbody tr th:only-of-type {\n",
       "        vertical-align: middle;\n",
       "    }\n",
       "\n",
       "    .dataframe tbody tr th {\n",
       "        vertical-align: top;\n",
       "    }\n",
       "\n",
       "    .dataframe thead th {\n",
       "        text-align: right;\n",
       "    }\n",
       "</style>\n",
       "<table border=\"1\" class=\"dataframe\">\n",
       "  <thead>\n",
       "    <tr style=\"text-align: right;\">\n",
       "      <th></th>\n",
       "      <th>image</th>\n",
       "      <th>class</th>\n",
       "      <th>class_label</th>\n",
       "    </tr>\n",
       "  </thead>\n",
       "  <tbody>\n",
       "    <tr>\n",
       "      <th>0</th>\n",
       "      <td>data/myntradataset/images/51832.jpg</td>\n",
       "      <td>23</td>\n",
       "      <td>Bra</td>\n",
       "    </tr>\n",
       "    <tr>\n",
       "      <th>1</th>\n",
       "      <td>data/myntradataset/images/48311.jpg</td>\n",
       "      <td>63</td>\n",
       "      <td>Bracelet</td>\n",
       "    </tr>\n",
       "    <tr>\n",
       "      <th>2</th>\n",
       "      <td>data/myntradataset/images/59051.jpg</td>\n",
       "      <td>22</td>\n",
       "      <td>Flats</td>\n",
       "    </tr>\n",
       "    <tr>\n",
       "      <th>3</th>\n",
       "      <td>data/myntradataset/images/59607.jpg</td>\n",
       "      <td>25</td>\n",
       "      <td>Sarees</td>\n",
       "    </tr>\n",
       "    <tr>\n",
       "      <th>4</th>\n",
       "      <td>data/myntradataset/images/54924.jpg</td>\n",
       "      <td>20</td>\n",
       "      <td>Shorts</td>\n",
       "    </tr>\n",
       "    <tr>\n",
       "      <th>...</th>\n",
       "      <td>...</td>\n",
       "      <td>...</td>\n",
       "      <td>...</td>\n",
       "    </tr>\n",
       "    <tr>\n",
       "      <th>5781</th>\n",
       "      <td>data/myntradataset/images/37267.jpg</td>\n",
       "      <td>24</td>\n",
       "      <td>Dresses</td>\n",
       "    </tr>\n",
       "    <tr>\n",
       "      <th>5782</th>\n",
       "      <td>data/myntradataset/images/56250.jpg</td>\n",
       "      <td>46</td>\n",
       "      <td>Night suits</td>\n",
       "    </tr>\n",
       "    <tr>\n",
       "      <th>5783</th>\n",
       "      <td>data/myntradataset/images/54163.jpg</td>\n",
       "      <td>44</td>\n",
       "      <td>Necklace and Chains</td>\n",
       "    </tr>\n",
       "    <tr>\n",
       "      <th>5784</th>\n",
       "      <td>data/myntradataset/images/15761.jpg</td>\n",
       "      <td>37</td>\n",
       "      <td>Innerwear Vests</td>\n",
       "    </tr>\n",
       "    <tr>\n",
       "      <th>5785</th>\n",
       "      <td>data/myntradataset/images/56406.jpg</td>\n",
       "      <td>22</td>\n",
       "      <td>Flats</td>\n",
       "    </tr>\n",
       "  </tbody>\n",
       "</table>\n",
       "<p>5786 rows × 3 columns</p>\n",
       "</div>"
      ],
      "text/plain": [
       "                                    image  class          class_label\n",
       "0     data/myntradataset/images/51832.jpg     23                  Bra\n",
       "1     data/myntradataset/images/48311.jpg     63             Bracelet\n",
       "2     data/myntradataset/images/59051.jpg     22                Flats\n",
       "3     data/myntradataset/images/59607.jpg     25               Sarees\n",
       "4     data/myntradataset/images/54924.jpg     20               Shorts\n",
       "...                                   ...    ...                  ...\n",
       "5781  data/myntradataset/images/37267.jpg     24              Dresses\n",
       "5782  data/myntradataset/images/56250.jpg     46          Night suits\n",
       "5783  data/myntradataset/images/54163.jpg     44  Necklace and Chains\n",
       "5784  data/myntradataset/images/15761.jpg     37      Innerwear Vests\n",
       "5785  data/myntradataset/images/56406.jpg     22                Flats\n",
       "\n",
       "[5786 rows x 3 columns]"
      ]
     },
     "execution_count": 25,
     "metadata": {},
     "output_type": "execute_result"
    }
   ],
   "source": [
    "create_index_from_data(df, os.path.join(DATA_DIR, 'all_data.p'))\n",
    "create_index_from_data(test, os.path.join(DATA_DIR, 'test.p'))\n",
    "create_index_from_data(train_top20, os.path.join(DATA_DIR, 'train_top20.p'))\n",
    "create_index_from_data(train_other, os.path.join(DATA_DIR, 'train_other.p'))"
   ]
  },
  {
   "cell_type": "code",
   "execution_count": null,
   "metadata": {},
   "outputs": [],
   "source": []
  },
  {
   "cell_type": "code",
   "execution_count": 27,
   "metadata": {},
   "outputs": [],
   "source": []
  },
  {
   "cell_type": "code",
   "execution_count": 236,
   "metadata": {},
   "outputs": [],
   "source": []
  },
  {
   "cell_type": "code",
   "execution_count": 243,
   "metadata": {},
   "outputs": [],
   "source": []
  },
  {
   "cell_type": "code",
   "execution_count": null,
   "metadata": {},
   "outputs": [],
   "source": []
  }
 ],
 "metadata": {
  "jupytext": {
   "formats": "py:light,ipynb",
   "text_representation": {
    "extension": ".py",
    "format_name": "light",
    "format_version": "1.5",
    "jupytext_version": "1.5.2"
   }
  },
  "kernelspec": {
   "display_name": "th",
   "language": "python",
   "name": "th"
  },
  "language_info": {
   "codemirror_mode": {
    "name": "ipython",
    "version": 3
   },
   "file_extension": ".py",
   "mimetype": "text/x-python",
   "name": "python",
   "nbconvert_exporter": "python",
   "pygments_lexer": "ipython3",
   "version": "3.7.1"
  },
  "toc": {
   "base_numbering": 1,
   "nav_menu": {},
   "number_sections": true,
   "sideBar": true,
   "skip_h1_title": false,
   "title_cell": "Table of Contents",
   "title_sidebar": "Contents",
   "toc_cell": false,
   "toc_position": {},
   "toc_section_display": true,
   "toc_window_display": false
  },
  "varInspector": {
   "cols": {
    "lenName": 16,
    "lenType": 16,
    "lenVar": 40
   },
   "kernels_config": {
    "python": {
     "delete_cmd_postfix": "",
     "delete_cmd_prefix": "del ",
     "library": "var_list.py",
     "varRefreshCmd": "print(var_dic_list())"
    },
    "r": {
     "delete_cmd_postfix": ") ",
     "delete_cmd_prefix": "rm(",
     "library": "var_list.r",
     "varRefreshCmd": "cat(var_dic_list()) "
    }
   },
   "types_to_exclude": [
    "module",
    "function",
    "builtin_function_or_method",
    "instance",
    "_Feature"
   ],
   "window_display": false
  }
 },
 "nbformat": 4,
 "nbformat_minor": 4
}
